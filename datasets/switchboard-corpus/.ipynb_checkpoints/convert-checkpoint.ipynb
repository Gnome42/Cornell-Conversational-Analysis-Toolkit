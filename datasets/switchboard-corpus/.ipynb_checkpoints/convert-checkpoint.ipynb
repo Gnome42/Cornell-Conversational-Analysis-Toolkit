{
 "cells": [
  {
   "cell_type": "markdown",
   "metadata": {},
   "source": [
    "### Code to Convert the Switchboard dataset into Convokit format"
   ]
  },
  {
   "cell_type": "code",
   "execution_count": 1,
   "metadata": {},
   "outputs": [
    {
     "ename": "ModuleNotFoundError",
     "evalue": "No module named 'swda'",
     "output_type": "error",
     "traceback": [
      "\u001b[1;31m---------------------------------------------------------------------------\u001b[0m",
      "\u001b[1;31mModuleNotFoundError\u001b[0m                       Traceback (most recent call last)",
      "\u001b[1;32m<ipython-input-1-09ba37b10c6f>\u001b[0m in \u001b[0;36m<module>\u001b[1;34m()\u001b[0m\n\u001b[0;32m      3\u001b[0m \u001b[1;32mfrom\u001b[0m \u001b[0mconvokit\u001b[0m \u001b[1;32mimport\u001b[0m \u001b[0mCorpus\u001b[0m\u001b[1;33m,\u001b[0m \u001b[0mUser\u001b[0m\u001b[1;33m,\u001b[0m \u001b[0mUtterance\u001b[0m\u001b[1;33m\u001b[0m\u001b[0m\n\u001b[0;32m      4\u001b[0m \u001b[0mos\u001b[0m\u001b[1;33m.\u001b[0m\u001b[0mchdir\u001b[0m\u001b[1;33m(\u001b[0m\u001b[1;34m\"datasets/switchboard-corpus\"\u001b[0m\u001b[1;33m)\u001b[0m \u001b[1;31m# then come back for swda\u001b[0m\u001b[1;33m\u001b[0m\u001b[0m\n\u001b[1;32m----> 5\u001b[1;33m \u001b[1;32mfrom\u001b[0m \u001b[0mswda\u001b[0m \u001b[1;32mimport\u001b[0m \u001b[0mTranscript\u001b[0m\u001b[1;33m\u001b[0m\u001b[0m\n\u001b[0m\u001b[0;32m      6\u001b[0m \u001b[1;32mimport\u001b[0m \u001b[0mglob\u001b[0m\u001b[1;33m\u001b[0m\u001b[0m\n",
      "\u001b[1;31mModuleNotFoundError\u001b[0m: No module named 'swda'"
     ]
    }
   ],
   "source": [
    "import os\n",
    "os.chdir(\"../../\") # import convokit\n",
    "from convokit import Corpus, User, Utterance\n",
    "os.chdir(\"datasets/switchboard-corpus\") # then come back for swda\n",
    "from swda import Transcript\n",
    "import glob"
   ]
  },
  {
   "cell_type": "markdown",
   "metadata": {},
   "source": [
    "#### Create Users\n",
    "\n",
    "Each caller is considered a user, and there are total of 440 different callers in this dataset. Each user is marked with a numerical id, and the metadata for each user includes the following information:\n",
    "\n",
    "- Gender (str): MALE or FEMALE\n",
    "- Education (int): 0, 1, 2, 3, 9\n",
    "- Birth Year (int): YYYY\n",
    "- Dialect Area (str): MIXED, NEW ENGLAND, NORTH MIDLAND, NORTHERN, NYC, SOUTH MIDLAND, SOUTHERN, UNK, WESTERN"
   ]
  },
  {
   "cell_type": "code",
   "execution_count": 2,
   "metadata": {
    "collapsed": true
   },
   "outputs": [],
   "source": [
    "files = glob.glob(\"./swda/*/sw_*.utt.csv\") # Switchboard utterance files\n",
    "user_meta = {}\n",
    "\n",
    "for file in files:\n",
    "    trans = Transcript(file, './swda/swda-metadata.csv')\n",
    "    user_meta[str(trans.from_caller)] = {\"sex\": trans.from_caller_sex,\n",
    "                                    \"education\": trans.from_caller_education,\n",
    "                                    \"birth_year\": trans.from_caller_birth_year,\n",
    "                                    \"dialect_area\": trans.from_caller_dialect_area}\n",
    "    user_meta[str(trans.to_caller)] = {\"sex\": trans.to_caller_sex,\n",
    "                                  \"education\": trans.to_caller_education,\n",
    "                                  \"birth_year\": trans.to_caller_birth_year,\n",
    "                                  \"dialect_area\": trans.to_caller_dialect_area}"
   ]
  },
  {
   "cell_type": "markdown",
   "metadata": {},
   "source": [
    "Create a User object for each unique user in the dataset"
   ]
  },
  {
   "cell_type": "code",
   "execution_count": 3,
   "metadata": {
    "collapsed": true
   },
   "outputs": [],
   "source": [
    "corpus_users = {k: User(name = k, meta = v) for k,v in user_meta.items()}"
   ]
  },
  {
   "cell_type": "markdown",
   "metadata": {},
   "source": [
    "Check number of users in the dataset"
   ]
  },
  {
   "cell_type": "code",
   "execution_count": 4,
   "metadata": {},
   "outputs": [
    {
     "name": "stdout",
     "output_type": "stream",
     "text": [
      "Number of users in the data = 440\n"
     ]
    }
   ],
   "source": [
    "print(\"Number of users in the data = {}\".format(len(corpus_users)))"
   ]
  },
  {
   "cell_type": "code",
   "execution_count": 5,
   "metadata": {
    "scrolled": true
   },
   "outputs": [
    {
     "data": {
      "text/plain": [
       "{'sex': 'FEMALE',\n",
       " 'education': 2,\n",
       " 'birth_year': 1962,\n",
       " 'dialect_area': 'WESTERN'}"
      ]
     },
     "execution_count": 5,
     "metadata": {},
     "output_type": "execute_result"
    }
   ],
   "source": [
    "# Example metadata from user 1632\n",
    "corpus_users['1632'].meta"
   ]
  },
  {
   "cell_type": "markdown",
   "metadata": {},
   "source": [
    "#### Create Utterances\n",
    "\n",
    "Utterances are found in the \"text\" field of each Transcript object. There are 221,616 utterances in total.\n",
    "\n",
    "Each Utterance object has the following fields:\n",
    "\n",
    "- id (str): the unique id of the utterance\n",
    "- user (User): the User giving the utterance\n",
    "- root (str): id of the root utterance of the conversation\n",
    "- reply_to (str): id of the utterance this replies to\n",
    "- timestamp: timestamp of the utterance (not applicable in Switchboard)\n",
    "- text (str): text of the utterance\n",
    "- metadata\n",
    "    - tag (str): the DAMSL act-tag of the utterance\n",
    "    - pos (str): the part-of-speech tagged portion of the utterance\n",
    "    - trees (nltk Tree): parsed tree of the utterance"
   ]
  },
  {
   "cell_type": "code",
   "execution_count": 6,
   "metadata": {
    "collapsed": true
   },
   "outputs": [],
   "source": [
    "utterance_corpus = {}\n",
    "\n",
    "# Iterate thru each transcript\n",
    "for file in files:\n",
    "    \n",
    "    trans = Transcript(file, './swda/swda-metadata.csv')\n",
    "    utts = trans.utterances\n",
    "    root = str(trans.conversation_no) + \"-0\" # Get id of root utterance\n",
    "    \n",
    "    recent_A = None\n",
    "    recent_B = None\n",
    "    \n",
    "    # Iterate thru each utterance in transcript\n",
    "    for utt in utts:\n",
    "        \n",
    "        idx = str(utt.conversation_no) + \"-\" + str(utt.transcript_index)\n",
    "        text = utt.text\n",
    "        \n",
    "        # Check which user is talking\n",
    "        if 'A' in utt.caller:\n",
    "            recent_A = idx;\n",
    "            user = str(trans.from_caller)\n",
    "        else:\n",
    "            recent_B = idx;\n",
    "            user = str(trans.to_caller)\n",
    "        \n",
    "        # Put act-tag and POS information into metadata\n",
    "        meta = {'tag': utt.act_tag,\n",
    "                'pos': utt.pos,\n",
    "                'trees': utt.trees}\n",
    "    \n",
    "        # For reply_to, find the most recent utterance from the other caller\n",
    "        if 'A' in utt.caller:\n",
    "            reply_to = recent_B\n",
    "        else:\n",
    "            reply_to = recent_A\n",
    "            \n",
    "        utterance_corpus[idx] = Utterance(idx, corpus_users[user], root,\n",
    "                                          reply_to, None, text, meta)"
   ]
  },
  {
   "cell_type": "code",
   "execution_count": 7,
   "metadata": {
    "collapsed": true
   },
   "outputs": [],
   "source": [
    "utterance_list = [utterance for k,utterance in utterance_corpus.items()]"
   ]
  },
  {
   "cell_type": "markdown",
   "metadata": {},
   "source": [
    "Check number of utterances in the dataset"
   ]
  },
  {
   "cell_type": "code",
   "execution_count": 8,
   "metadata": {},
   "outputs": [
    {
     "name": "stdout",
     "output_type": "stream",
     "text": [
      "Number of utterances in the data = 221616\n"
     ]
    }
   ],
   "source": [
    "print(\"Number of utterances in the data = {}\".format(len(utterance_corpus)))"
   ]
  },
  {
   "cell_type": "code",
   "execution_count": 9,
   "metadata": {},
   "outputs": [
    {
     "data": {
      "text/plain": [
       "Utterance({'id': '4325-2', 'user': User([('name', '1519')]), 'root': '4325-0', 'reply_to': '4325-1', 'timestamp': None, 'text': '[ [ I guess, +', 'meta': {'tag': 'qy^d', 'pos': '[ I/PRP ] guess/VBP ,/,', 'trees': [Tree('S', [Tree('EDITED', [Tree('RM', [Tree('-DFL-', ['\\\\['])]), Tree('EDITED', [Tree('RM', [Tree('-DFL-', ['\\\\['])]), Tree('S', [Tree('NP-SBJ', [Tree('PRP', ['I'])]), Tree('VP-UNF', [Tree('VBP', ['guess'])])]), Tree(',', [',']), Tree('IP', [Tree('-DFL-', ['\\\\+'])])]), Tree('S', [Tree('NP-SBJ', [Tree('PRP', ['I'])]), Tree('VP-UNF', [Tree('VBP', ['think'])])]), Tree(',', [',']), Tree('RS', [Tree('-DFL-', ['\\\\]'])]), Tree('IP', [Tree('-DFL-', ['\\\\+'])])]), Tree('INTJ', [Tree('UH', ['uh'])]), Tree(',', [',']), Tree('NP-SBJ', [Tree('PRP', ['I'])]), Tree('VP', [Tree('VBP', ['wonder']), Tree('RS', [Tree('-DFL-', ['\\\\]'])]), Tree('SBAR', [Tree('IN', ['if']), Tree('S', [Tree('NP-SBJ', [Tree('DT', ['that'])]), Tree('VP', [Tree('VBD', ['worked'])])])])]), Tree('.', ['.']), Tree('-DFL-', ['E_S'])])]}})"
      ]
     },
     "execution_count": 9,
     "metadata": {},
     "output_type": "execute_result"
    }
   ],
   "source": [
    "# Example utterance object\n",
    "utterance_corpus['4325-2']"
   ]
  },
  {
   "cell_type": "markdown",
   "metadata": {},
   "source": [
    "#### Create corpus from list of utterances"
   ]
  },
  {
   "cell_type": "code",
   "execution_count": 10,
   "metadata": {},
   "outputs": [
    {
     "name": "stdout",
     "output_type": "stream",
     "text": [
      "number of conversations in the dataset = 1155\n"
     ]
    }
   ],
   "source": [
    "switchboard_corpus = Corpus(utterances=utterance_list, version=1)\n",
    "print(\"number of conversations in the dataset = {}\".format(len(switchboard_corpus.get_conversation_ids())))"
   ]
  },
  {
   "cell_type": "markdown",
   "metadata": {},
   "source": [
    "#### Update corpus level metadata"
   ]
  },
  {
   "cell_type": "code",
   "execution_count": 11,
   "metadata": {
    "collapsed": true
   },
   "outputs": [],
   "source": [
    "switchboard_meta = {}\n",
    "for file in files:\n",
    "    trans = Transcript(file, './swda/swda-metadata.csv')\n",
    "    idx = trans.conversation_no\n",
    "    switchboard_meta[idx] = {}\n",
    "    switchboard_meta[idx]['filename'] = trans.ptd_basename\n",
    "    switchboard_meta[idx]['talk_day'] = trans.talk_day\n",
    "    switchboard_meta[idx]['topic_description'] = trans.topic_description\n",
    "    switchboard_meta[idx]['length'] = trans.length\n",
    "    switchboard_meta[idx]['prompt'] = trans.prompt\n",
    "                     \n",
    "    \n",
    "switchboard_corpus.meta['metadata'] = switchboard_meta\n",
    "switchboard_corpus.meta['name'] = \"The Switchboard Dialog Act Corpus\""
   ]
  },
  {
   "cell_type": "code",
   "execution_count": 12,
   "metadata": {},
   "outputs": [
    {
     "data": {
      "text/plain": [
       "{'filename': '4/sw4325',\n",
       " 'talk_day': datetime.datetime(1992, 3, 23, 0, 0),\n",
       " 'topic_description': 'CHILD CARE',\n",
       " 'length': 5,\n",
       " 'prompt': 'FIND OUT WHAT CRITERIA THE OTHER CALLER WOULD USE IN SELECTING CHILD CARE SERVICES FOR A PRESCHOOLER.  IS IT EASY OR DIFFICULT TO FIND SUCH CARE?'}"
      ]
     },
     "execution_count": 12,
     "metadata": {},
     "output_type": "execute_result"
    }
   ],
   "source": [
    "switchboard_corpus.meta['metadata'][4325]"
   ]
  },
  {
   "cell_type": "markdown",
   "metadata": {},
   "source": [
    "#### Save created corpus"
   ]
  },
  {
   "cell_type": "code",
   "execution_count": 13,
   "metadata": {
    "collapsed": true
   },
   "outputs": [],
   "source": [
    "switchboard_corpus.dump(\"corpus\", base_path = \"./\")"
   ]
  },
  {
   "cell_type": "markdown",
   "metadata": {},
   "source": [
    "Check if available info from dataset can be viewed directly"
   ]
  },
  {
   "cell_type": "code",
   "execution_count": 14,
   "metadata": {},
   "outputs": [
    {
     "data": {
      "text/plain": [
       "{'utterances-index': {'tag': \"<class 'str'>\",\n",
       "  'pos': \"<class 'str'>\",\n",
       "  'trees': \"<class 'list'>\"},\n",
       " 'users-index': {'sex': \"<class 'str'>\",\n",
       "  'education': \"<class 'int'>\",\n",
       "  'birth_year': \"<class 'int'>\",\n",
       "  'dialect_area': \"<class 'str'>\"},\n",
       " 'conversations-index': {},\n",
       " 'overall-index': {'metadata': 'bin', 'name': \"<class 'str'>\"},\n",
       " 'version': 1}"
      ]
     },
     "execution_count": 14,
     "metadata": {},
     "output_type": "execute_result"
    }
   ],
   "source": [
    "from convokit import meta_index\n",
    "meta_index(filename = \"./corpus\")"
   ]
  },
  {
   "cell_type": "code",
   "execution_count": 15,
   "metadata": {},
   "outputs": [
    {
     "name": "stdout",
     "output_type": "stream",
     "text": [
      "Number of Users: 440\n",
      "Number of Utterances: 221616\n",
      "Number of Conversations: 1155\n"
     ]
    }
   ],
   "source": [
    "test_corpus = Corpus(filename = \"./corpus\")\n",
    "test_corpus.print_summary_stats()"
   ]
  },
  {
   "cell_type": "code",
   "execution_count": null,
   "metadata": {
    "collapsed": true
   },
   "outputs": [],
   "source": []
  }
 ],
 "metadata": {
  "kernelspec": {
   "display_name": "Python 3",
   "language": "python",
   "name": "python3"
  },
  "language_info": {
   "codemirror_mode": {
    "name": "ipython",
    "version": 3
   },
   "file_extension": ".py",
   "mimetype": "text/x-python",
   "name": "python",
   "nbconvert_exporter": "python",
   "pygments_lexer": "ipython3",
   "version": "3.6.2"
  }
 },
 "nbformat": 4,
 "nbformat_minor": 2
}
